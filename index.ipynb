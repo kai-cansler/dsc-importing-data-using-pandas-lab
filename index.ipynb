{
 "cells": [
  {
   "cell_type": "markdown",
   "metadata": {},
   "source": [
    "# Importing Data Using Pandas - Lab\n",
    "\n",
    "## Introduction\n",
    "\n",
    "In this lab, you'll get some practice with loading files with summary or metadata, and if you find that easy, the optional \"level up\" content covers loading data from a corrupted csv file!\n",
    "\n",
    "## Objectives\n",
    "You will be able to:\n",
    "\n",
    "- Use pandas to import data from a CSV and and an Excel spreadsheet  \n",
    "\n",
    "##  Loading Files with Summary or Meta Data\n",
    "\n",
    "Load either of the files `'Zipcode_Demos.csv'` or `'Zipcode_Demos.xlsx'`. What's going on with this dataset? Clean it up into a useable format and describe the nuances of how the data is currently formatted.\n",
    "\n",
    "All data files are stored in a folder titled `'Data'`."
   ]
  },
  {
   "cell_type": "code",
   "execution_count": 2,
   "metadata": {},
   "outputs": [],
   "source": [
    "# Import pandas using the standard alias\n",
    "import pandas as pd"
   ]
  },
  {
   "cell_type": "code",
   "execution_count": 4,
   "metadata": {},
   "outputs": [
    {
     "name": "stdout",
     "output_type": "stream",
     "text": [
      "   0  Average Statistics Unnamed: 2 Unnamed: 3 Unnamed: 4 Unnamed: 5  \\\n",
      "0  1                 NaN          0        NaN        NaN        NaN   \n",
      "1  2   JURISDICTION NAME    10005.8        NaN        NaN        NaN   \n",
      "2  3  COUNT PARTICIPANTS        9.4        NaN        NaN        NaN   \n",
      "3  4        COUNT FEMALE        4.8        NaN        NaN        NaN   \n",
      "4  5      PERCENT FEMALE      0.404        NaN        NaN        NaN   \n",
      "\n",
      "  Unnamed: 6 Unnamed: 7 Unnamed: 8 Unnamed: 9  ... Unnamed: 37 Unnamed: 38  \\\n",
      "0        NaN        NaN        NaN        NaN  ...         NaN         NaN   \n",
      "1        NaN        NaN        NaN        NaN  ...         NaN         NaN   \n",
      "2        NaN        NaN        NaN        NaN  ...         NaN         NaN   \n",
      "3        NaN        NaN        NaN        NaN  ...         NaN         NaN   \n",
      "4        NaN        NaN        NaN        NaN  ...         NaN         NaN   \n",
      "\n",
      "  Unnamed: 39 Unnamed: 40 Unnamed: 41 Unnamed: 42 Unnamed: 43 Unnamed: 44  \\\n",
      "0         NaN         NaN         NaN         NaN         NaN         NaN   \n",
      "1         NaN         NaN         NaN         NaN         NaN         NaN   \n",
      "2         NaN         NaN         NaN         NaN         NaN         NaN   \n",
      "3         NaN         NaN         NaN         NaN         NaN         NaN   \n",
      "4         NaN         NaN         NaN         NaN         NaN         NaN   \n",
      "\n",
      "  Unnamed: 45 Unnamed: 46  \n",
      "0         NaN         NaN  \n",
      "1         NaN         NaN  \n",
      "2         NaN         NaN  \n",
      "3         NaN         NaN  \n",
      "4         NaN         NaN  \n",
      "\n",
      "[5 rows x 47 columns]\n"
     ]
    }
   ],
   "source": [
    "# Import the file and print the first 5 rows\n",
    "df = pd.read_csv('Data/Zipcode_Demos.csv')\n",
    "print(df.head())"
   ]
  },
  {
   "cell_type": "code",
   "execution_count": 6,
   "metadata": {},
   "outputs": [
    {
     "name": "stdout",
     "output_type": "stream",
     "text": [
      "     0 Average Statistics Unnamed: 2 Unnamed: 3 Unnamed: 4 Unnamed: 5  \\\n",
      "52  53              10006          6          2       0.33          4   \n",
      "53  54              10007          1          0          0          1   \n",
      "54  55              10009          2          0          0          2   \n",
      "55  56              10010          0          0          0          0   \n",
      "56  57              10011          3          2       0.67          1   \n",
      "\n",
      "   Unnamed: 6 Unnamed: 7 Unnamed: 8 Unnamed: 9  ... Unnamed: 37 Unnamed: 38  \\\n",
      "52       0.67          0          0          6  ...           6         100   \n",
      "53          1          0          0          1  ...           1         100   \n",
      "54          1          0          0          2  ...           2         100   \n",
      "55          0          0          0          0  ...           0           0   \n",
      "56       0.33          0          0          3  ...           3         100   \n",
      "\n",
      "   Unnamed: 39 Unnamed: 40 Unnamed: 41 Unnamed: 42 Unnamed: 43 Unnamed: 44  \\\n",
      "52           0           0           6           1           0           0   \n",
      "53           1           1           0           0           0           0   \n",
      "54           0           0           2           1           0           0   \n",
      "55           0           0           0           0           0           0   \n",
      "56           0           0           3           1           0           0   \n",
      "\n",
      "   Unnamed: 45 Unnamed: 46  \n",
      "52           6         100  \n",
      "53           1         100  \n",
      "54           2         100  \n",
      "55           0           0  \n",
      "56           3         100  \n",
      "\n",
      "[5 rows x 47 columns]\n"
     ]
    }
   ],
   "source": [
    "# Print the last 5 rows of df\n",
    "print(df.tail())"
   ]
  },
  {
   "cell_type": "code",
   "execution_count": null,
   "metadata": {},
   "outputs": [],
   "source": [
    "# What is going on with this data set? Anything unusual?\n",
    "\"\"\"\n",
    "The Data contains a summary of the data in the beginning along with an emptry row in the first line. \n",
    "After the summary contains a table of the information that contains alot of 0 values.\n",
    "\"\""
   ]
  },
  {
   "cell_type": "code",
   "execution_count": null,
   "metadata": {},
   "outputs": [],
   "source": [
    "# Clean up the dataset\n",
    "prev_count = 10**3\n",
    "for row in df.index:\n",
    "    count = 0\n",
    "    for entry in df.iloc[row].isnull():\n",
    "        if entry:\n",
    "            count += 1\n",
    "    if count != prev_count and row!=0:\n",
    "        print('On row {} there are {} null values. The previous row had {} null values.'.format(row, count, prev_count))\n",
    "    prev_count = count\n"
   ]
  },
  {
   "cell_type": "markdown",
   "metadata": {},
   "source": [
    "## Level Up (Optional) - Loading Corrupt CSV files\n",
    "\n",
    "Occasionally, you encounter some really ill-formatted data. One example of this can be data that has strings containing commas in a csv file. Under the standard protocol, when this occurs, one is supposed to use quotes to differentiate between the commas denoting fields and the commas within those fields themselves. For example, we could have a table like this:  \n",
    "\n",
    "`ReviewerID,Rating,N_reviews,Review,VenueID\n",
    "123456,4,137,This restaurant was pretty good, we had a great time.,98765`\n",
    "\n",
    "Which should be saved like this if it were a csv (to avoid confusion with the commas in the Review text):\n",
    "`\"ReviewerID\",\"Rating\",\"N_reviews\",\"Review\",\"VenueID\"\n",
    "\"123456\",\"4\",\"137\",\"This restaurant was pretty good, we had a great time.\",\"98765\"`\n",
    "\n",
    "Attempt to import the corrupt file, or at least a small preview of it. It is appropriately titled `'Yelp_Reviews_Corrupt.csv'`. Investigate some of the intricacies of skipping rows to then pass over this error and comment on what you think is going on."
   ]
  },
  {
   "cell_type": "code",
   "execution_count": null,
   "metadata": {},
   "outputs": [],
   "source": [
    "# Hint: Here's a useful programming pattern to use\n",
    "try:\n",
    "    # Do something\n",
    "except Exception as e:\n",
    "    # Handle your exception e"
   ]
  },
  {
   "cell_type": "markdown",
   "metadata": {},
   "source": [
    "## Summary\n",
    "\n",
    "Congratulations, you now practiced your Pandas-importing skills!"
   ]
  }
 ],
 "metadata": {
  "kernelspec": {
   "display_name": "Python 3",
   "language": "python",
   "name": "python3"
  },
  "language_info": {
   "codemirror_mode": {
    "name": "ipython",
    "version": 3
   },
   "file_extension": ".py",
   "mimetype": "text/x-python",
   "name": "python",
   "nbconvert_exporter": "python",
   "pygments_lexer": "ipython3",
   "version": "3.8.5"
  }
 },
 "nbformat": 4,
 "nbformat_minor": 2
}
